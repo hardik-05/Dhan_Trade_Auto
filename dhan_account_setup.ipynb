{
  "nbformat": 4,
  "nbformat_minor": 0,
  "metadata": {
    "colab": {
      "provenance": [],
      "authorship_tag": "ABX9TyPMNy811JOncZj2BD6HKQLk",
      "include_colab_link": true
    },
    "kernelspec": {
      "name": "python3",
      "display_name": "Python 3"
    },
    "language_info": {
      "name": "python"
    }
  },
  "cells": [
    {
      "cell_type": "markdown",
      "metadata": {
        "id": "view-in-github",
        "colab_type": "text"
      },
      "source": [
        "<a href=\"https://colab.research.google.com/github/hardik-05/Dhan_Trade_Auto/blob/main/dhan_account_setup.ipynb\" target=\"_parent\"><img src=\"https://colab.research.google.com/assets/colab-badge.svg\" alt=\"Open In Colab\"/></a>"
      ]
    },
    {
      "cell_type": "code",
      "execution_count": null,
      "metadata": {
        "colab": {
          "base_uri": "https://localhost:8080/"
        },
        "id": "4515ekW3hpF0",
        "outputId": "40a82bbc-b0e3-40d1-e7e1-7c976916fec2"
      },
      "outputs": [
        {
          "output_type": "stream",
          "name": "stdout",
          "text": [
            "Requirement already satisfied: dhanhq in /usr/local/lib/python3.10/dist-packages (1.3)\n",
            "Requirement already satisfied: websockets in /usr/local/lib/python3.10/dist-packages (12.0)\n",
            "Requirement already satisfied: pandas>=1.4.3 in /usr/local/lib/python3.10/dist-packages (from dhanhq) (2.0.3)\n",
            "Requirement already satisfied: requests>=2.28.1 in /usr/local/lib/python3.10/dist-packages (from dhanhq) (2.31.0)\n",
            "Requirement already satisfied: python-dateutil>=2.8.2 in /usr/local/lib/python3.10/dist-packages (from pandas>=1.4.3->dhanhq) (2.8.2)\n",
            "Requirement already satisfied: pytz>=2020.1 in /usr/local/lib/python3.10/dist-packages (from pandas>=1.4.3->dhanhq) (2023.4)\n",
            "Requirement already satisfied: tzdata>=2022.1 in /usr/local/lib/python3.10/dist-packages (from pandas>=1.4.3->dhanhq) (2024.1)\n",
            "Requirement already satisfied: numpy>=1.21.0 in /usr/local/lib/python3.10/dist-packages (from pandas>=1.4.3->dhanhq) (1.25.2)\n",
            "Requirement already satisfied: charset-normalizer<4,>=2 in /usr/local/lib/python3.10/dist-packages (from requests>=2.28.1->dhanhq) (3.3.2)\n",
            "Requirement already satisfied: idna<4,>=2.5 in /usr/local/lib/python3.10/dist-packages (from requests>=2.28.1->dhanhq) (3.7)\n",
            "Requirement already satisfied: urllib3<3,>=1.21.1 in /usr/local/lib/python3.10/dist-packages (from requests>=2.28.1->dhanhq) (2.0.7)\n",
            "Requirement already satisfied: certifi>=2017.4.17 in /usr/local/lib/python3.10/dist-packages (from requests>=2.28.1->dhanhq) (2024.7.4)\n",
            "Requirement already satisfied: six>=1.5 in /usr/local/lib/python3.10/dist-packages (from python-dateutil>=2.8.2->pandas>=1.4.3->dhanhq) (1.16.0)\n"
          ]
        }
      ],
      "source": [
        "pip install dhanhq websockets\n"
      ]
    },
    {
      "cell_type": "code",
      "source": [
        "from dhanhq import dhanhq\n",
        "\n",
        "from google.colab import userdata\n",
        "dhan_token = userdata.get('dhan_token') #access token from broker\n",
        "\n",
        "client_id = userdata.get('client_id') #client ID of Account\n",
        "dhan = dhanhq(client_id,dhan_token)"
      ],
      "metadata": {
        "id": "8y_4Xqf6hvfA"
      },
      "execution_count": null,
      "outputs": []
    },
    {
      "cell_type": "code",
      "source": [
        "def market_buy_order(security_id,quantity):\n",
        "  response = dhan.place_order(\n",
        "      tag='',\n",
        "      transaction_type=dhan.BUY,\n",
        "      exchange_segment=dhan.NSE,\n",
        "      product_type=dhan.CNC,\n",
        "      order_type=dhan.MARKET,\n",
        "      validity='DAY',\n",
        "      security_id=security_id,\n",
        "      quantity=quantity,\n",
        "      disclosed_quantity=0,\n",
        "      price=0,\n",
        "      trigger_price=0,\n",
        "  )\n",
        "  return response\n",
        "\n",
        "market_buy_order('19145',10)\n"
      ],
      "metadata": {
        "id": "Ly0G8N5wicRX"
      },
      "execution_count": null,
      "outputs": []
    },
    {
      "cell_type": "markdown",
      "source": [
        "Expected_Response = {\n",
        "    \"orderId\": \"112111182198\",\n",
        "    \"orderStatus\": \"PENDING\",\n",
        "}"
      ],
      "metadata": {
        "id": "_xkeNNM3o9Oh"
      }
    },
    {
      "cell_type": "code",
      "source": [
        "def market_sell_order(security_id,quantity):\n",
        "  response = dhan.place_order(\n",
        "      tag='',\n",
        "      transaction_type=dhan.SELL,\n",
        "      exchange_segment=dhan.NSE,\n",
        "      product_type=dhan.CNC,\n",
        "      order_type=dhan.MARKET,\n",
        "      validity='DAY',\n",
        "      security_id=security_id,\n",
        "      quantity=quantity,\n",
        "      disclosed_quantity=0,\n",
        "      price=0,\n",
        "      trigger_price=0,\n",
        "  )\n",
        "  return response\n"
      ],
      "metadata": {
        "id": "OK4bzq2_mzn4"
      },
      "execution_count": null,
      "outputs": []
    },
    {
      "cell_type": "code",
      "source": [
        "def limit_buy_order(security_id,quantity,price):\n",
        "  response = dhan.place_order(\n",
        "      tag='',\n",
        "      transaction_type=dhan.BUY,\n",
        "      exchange_segment=dhan.NSE,\n",
        "      product_type=dhan.CNC,\n",
        "      order_type=dhan.LIMIT,\n",
        "      validity='DAY',\n",
        "      security_id=security_id,\n",
        "      quantity=quantity,\n",
        "      disclosed_quantity=0,\n",
        "      price=price,\n",
        "      trigger_price=0,\n",
        "  )\n",
        "  return response\n",
        "limit_buy_order('19145',10,345)"
      ],
      "metadata": {
        "colab": {
          "base_uri": "https://localhost:8080/"
        },
        "id": "ClaNkxzFnScT",
        "outputId": "28677625-7805-41f4-f58a-3238811a1d93"
      },
      "execution_count": null,
      "outputs": [
        {
          "output_type": "execute_result",
          "data": {
            "text/plain": [
              "{'status': 'failure',\n",
              " 'remarks': {'error_code': 'RS-9005',\n",
              "  'message': 'Market is Closed! Want to place an offline order?'},\n",
              " 'data': ''}"
            ]
          },
          "metadata": {},
          "execution_count": 27
        }
      ]
    },
    {
      "cell_type": "code",
      "source": [
        "def limit_sell_order(security_id,quantity,price):\n",
        "  response = dhan.place_order(\n",
        "      tag='',\n",
        "      transaction_type=dhan.SELL,\n",
        "      exchange_segment=dhan.NSE,\n",
        "      product_type=dhan.CNC,\n",
        "      order_type=dhan.LIMIT,\n",
        "      validity='DAY',\n",
        "      security_id=security_id,\n",
        "      quantity=quantity,\n",
        "      disclosed_quantity=0,\n",
        "      price=price,\n",
        "      trigger_price=0,\n",
        "  )\n",
        "  return response\n",
        "limit_sell_order('19145',10,345)"
      ],
      "metadata": {
        "colab": {
          "base_uri": "https://localhost:8080/"
        },
        "id": "xAmGuXODm6u0",
        "outputId": "b116d0e6-ec07-42d6-96a8-91d4492ccd14"
      },
      "execution_count": null,
      "outputs": [
        {
          "output_type": "execute_result",
          "data": {
            "text/plain": [
              "{'status': 'failure',\n",
              " 'remarks': {'error_code': 'RS-9005',\n",
              "  'message': 'Insufficient Holding Quantity'},\n",
              " 'data': ''}"
            ]
          },
          "metadata": {},
          "execution_count": 28
        }
      ]
    },
    {
      "cell_type": "code",
      "source": [
        "#All the orders for the day\n",
        "dhan.get_order_list()"
      ],
      "metadata": {
        "colab": {
          "base_uri": "https://localhost:8080/"
        },
        "id": "SORzaQkziMSA",
        "outputId": "c92b3205-f35f-40ac-e058-bb0759c0d8f4"
      },
      "execution_count": null,
      "outputs": [
        {
          "output_type": "execute_result",
          "data": {
            "text/plain": [
              "{'status': 'success', 'remarks': '', 'data': []}"
            ]
          },
          "metadata": {},
          "execution_count": 29
        }
      ]
    },
    {
      "cell_type": "code",
      "source": [
        "# All the open ps\n",
        "dhan.get_positions()\n"
      ],
      "metadata": {
        "colab": {
          "base_uri": "https://localhost:8080/"
        },
        "id": "Geou7DFlk32Q",
        "outputId": "ec78a6f9-d234-4f06-de79-062aaac19d78"
      },
      "execution_count": null,
      "outputs": [
        {
          "output_type": "execute_result",
          "data": {
            "text/plain": [
              "{'status': 'success', 'remarks': '', 'data': []}"
            ]
          },
          "metadata": {},
          "execution_count": 31
        }
      ]
    },
    {
      "cell_type": "code",
      "source": [
        "# All demat and non-demat holdings\n",
        "dhan.get_holdings()\n"
      ],
      "metadata": {
        "colab": {
          "base_uri": "https://localhost:8080/"
        },
        "id": "ZgaPAcgNjDkQ",
        "outputId": "1fecffbd-7452-4fdc-dbb0-77d8a58ffa92"
      },
      "execution_count": null,
      "outputs": [
        {
          "output_type": "execute_result",
          "data": {
            "text/plain": [
              "{'status': 'failure',\n",
              " 'remarks': {'error_code': 'DH-1111', 'message': 'No holdings available'},\n",
              " 'data': ''}"
            ]
          },
          "metadata": {},
          "execution_count": 10
        }
      ]
    },
    {
      "cell_type": "code",
      "source": [
        "# get account fund details\n",
        "\n",
        "def get_account_fund_details():\n",
        "  response = dhan.get_fund_limits()\n",
        "  return response\n",
        "get_account_fund_details()"
      ],
      "metadata": {
        "colab": {
          "base_uri": "https://localhost:8080/"
        },
        "id": "_zCgpdFSqlgQ",
        "outputId": "c223fddb-48d0-455c-91a8-0190af47c095"
      },
      "execution_count": null,
      "outputs": [
        {
          "output_type": "execute_result",
          "data": {
            "text/plain": [
              "{'status': 'success',\n",
              " 'remarks': '',\n",
              " 'data': {'dhanClientId': '1103881409',\n",
              "  'availabelBalance': 0.0,\n",
              "  'sodLimit': 0.0,\n",
              "  'collateralAmount': 0.0,\n",
              "  'receiveableAmount': 0.0,\n",
              "  'utilizedAmount': 0.0,\n",
              "  'blockedPayoutAmount': 0.0,\n",
              "  'withdrawableBalance': 0.0}}"
            ]
          },
          "metadata": {},
          "execution_count": 39
        }
      ]
    },
    {
      "cell_type": "code",
      "source": [
        "#generate TPIN\n",
        "\n",
        "def generate_tpin():\n",
        "  reponse = dhan.generate_tpin()\n",
        "  return reponse\n",
        "generate_tpin()"
      ],
      "metadata": {
        "colab": {
          "base_uri": "https://localhost:8080/"
        },
        "id": "ZjFPGLG9qRJe",
        "outputId": "2b2ffbd6-a761-4c1f-854f-7fe827b40f11"
      },
      "execution_count": null,
      "outputs": [
        {
          "output_type": "execute_result",
          "data": {
            "text/plain": [
              "{'status': 'success', 'remarks': 'Otp sent', 'data': ''}"
            ]
          },
          "metadata": {},
          "execution_count": 37
        }
      ]
    },
    {
      "cell_type": "code",
      "source": [
        "def generate_edis_form(isin):\n",
        "  response = dhan.open_browser_for_tpin(\n",
        "      isin=isin,\n",
        "      qty=1,\n",
        "      exchange='NSE',\n",
        "      segment='EQ',\n",
        "      bulk=True\n",
        "  )\n",
        "  return response\n",
        "\n",
        "generate_edis_form('1103881409')"
      ],
      "metadata": {
        "colab": {
          "base_uri": "https://localhost:8080/"
        },
        "id": "lScvLxwgrOLp",
        "outputId": "5c9ae5ce-7217-4715-beec-4cd38756b036"
      },
      "execution_count": null,
      "outputs": [
        {
          "output_type": "execute_result",
          "data": {
            "text/plain": [
              "{'status': 'success',\n",
              " 'remarks': '',\n",
              " 'data': {'dhanClientId': '1103881409',\n",
              "  'edisFormHtml': '<!DOCTYPE html> <html>     <script>window.onload= function(){submit()};function submit(){ document.getElementById(\"submitbtn\").click();    }    </script><body onload=\"submit()\">     <form name=\"frmDIS\" method=\"post\" action=\"https://edis.cdslindia.com/eDIS/VerifyDIS/\" style=\"                          text-align: center;                          margin-top: 35px;                          /* margin-bottom: 15px; */                      \">             <input type= \"hidden\" name= \"DPId\" value= \"83400\" >             <input type= \"hidden\" name= \"ReqId\" value= \"4549141103881409\" >             <input type= \"hidden\" name= \"Version\" value= \"1.2\" >             <input type= \"hidden\" name= \"TransDtls\" value= \"kQBOKYtPSbWmbLYOih9ZXaLZuA3Ig5ycFPangwWZKTPgmIqdfXL58qN3tGfDlVH+S613mfqTkIWVkQTiMrqUHkzvTRxkr7NtJtP7O3Z7+Xro9Fs5svt2tQDrNJGSd1oEqc4dhoc+FCS8u9ZhNCFqkZ30djjKqjTp1j12fv4cZVwzupyLfVVyh0U8TwwqSAEP0w39BG7zc8qn+SnRtwcbACPjQa8A6zGDWIaz6mKuDYQFPRGCCZOu31Wxo8w8kZE3smNMkNkJ+lVS0w7/Q18NStVd2JdXg6LSxhiLeL9LoOtblS22H1rs1zx/lWkHRQNoqsZY8rFvRDXNZR1WULRYpcjoRqSPMNMuk7jt0kDnFyRviDffC7ay4EhZ/Wzqt+LoCk7Hr3Yx5/aa63LozF8gzaDJXVvdwbQk5iRKqTr/sEs=\" >  <input style=\"display: none;\" id=\"submitbtn\" type= \"submit\" value=\"Submit\">     </form> </body> </html>'}}"
            ]
          },
          "metadata": {},
          "execution_count": 46
        }
      ]
    },
    {
      "cell_type": "code",
      "source": [
        "def edis_inquiry(isin):\n",
        "  response = dhan.edis_inquiry(isin)\n",
        "  return response\n",
        "edis_inquiry('1103881409')\n"
      ],
      "metadata": {
        "colab": {
          "base_uri": "https://localhost:8080/"
        },
        "id": "37mNG5K4r6WV",
        "outputId": "1c4d6a4e-34a2-411c-b3c3-8cd25bd711da"
      },
      "execution_count": null,
      "outputs": [
        {
          "output_type": "execute_result",
          "data": {
            "text/plain": [
              "{'status': 'failure',\n",
              " 'remarks': {'error_code': 'RS-0025', 'message': 'No Data Found!'},\n",
              " 'data': ''}"
            ]
          },
          "metadata": {},
          "execution_count": 49
        }
      ]
    },
    {
      "cell_type": "code",
      "source": [],
      "metadata": {
        "id": "Vz0xCVZwsV0Y"
      },
      "execution_count": null,
      "outputs": []
    }
  ]
}